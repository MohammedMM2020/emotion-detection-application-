{
 "cells": [
  {
   "cell_type": "code",
   "execution_count": 1,
   "id": "6c165050",
   "metadata": {},
   "outputs": [],
   "source": [
    "import json\n",
    "import matplotlib.pyplot as plt\n",
    "import pandas as pd\n",
    "import seaborn as sns\n",
    "import tensorflow as tf\n",
    "import watson_nlp\n",
    "import watson_nlp.data_model as dm\n",
    "\n",
    "from sklearn.model_selection import train_test_split\n",
    "\n",
    "from watson_core.toolkit import fileio\n",
    "from watson_core.toolkit.quality_evaluation import QualityEvaluator, EvalTypes\n",
    "\n",
    "from watson_nlp.blocks.classification.bert import BERT\n",
    "from watson_nlp.blocks.classification.cnn import CNN\n",
    "from watson_core.data_model.streams.resolver import DataStreamResolver\n",
    "from watson_core.data_model.streams.resolver import DataStream\n",
    "from watson_nlp.blocks.classification.svm import SVM\n",
    "from watson_nlp.blocks.vectorization.tfidf import TFIDF"
   ]
  },
  {
   "cell_type": "code",
   "execution_count": 3,
   "id": "1dabb6de",
   "metadata": {},
   "outputs": [],
   "source": [
    "pd.set_option('display.max_colwidth', 0)"
   ]
  },
  {
   "cell_type": "code",
   "execution_count": 4,
   "id": "f4645052",
   "metadata": {},
   "outputs": [],
   "source": [
    "block_models = watson_nlp.get_models().get_alias_models()\n",
    "workflow_models = watson_nlp.get_workflows().get_alias_models()"
   ]
  },
  {
   "cell_type": "code",
   "execution_count": 5,
   "id": "8168a2e7",
   "metadata": {},
   "outputs": [],
   "source": [
    "# load data set into a dataframe\n",
    "buffer = project.get_file(\"emotion-tweets.csv\")\n",
    "df = pd.read_csv(buffer)"
   ]
  },
  {
   "cell_type": "markdown",
   "id": "b6042dd9",
   "metadata": {},
   "source": [
    "<a id=\"dataProcessing\"></a>\n",
    "##  Data Processing"
   ]
  },
  {
   "cell_type": "code",
   "execution_count": 6,
   "id": "d262d5ff",
   "metadata": {},
   "outputs": [],
   "source": [
    "def convertToList(x):\n",
    "    return [x]"
   ]
  },
  {
   "cell_type": "code",
   "execution_count": 7,
   "id": "1989005f",
   "metadata": {},
   "outputs": [],
   "source": [
    "df['label'] = df['label'].apply(convertToList)\n",
    "df = df.rename(columns={'label':'labels'})"
   ]
  },
  {
   "cell_type": "code",
   "execution_count": 8,
   "id": "c4b73c5b",
   "metadata": {},
   "outputs": [],
   "source": [
    "df_train, df_test = train_test_split(df, test_size=0.2)"
   ]
  },
  {
   "cell_type": "code",
   "execution_count": 9,
   "id": "0b5b3db1",
   "metadata": {},
   "outputs": [],
   "source": [
    "df_train.to_json('df_train.json', orient='records')\n",
    "df_test.to_json('df_test.json', orient='records')"
   ]
  },
  {
   "cell_type": "code",
   "execution_count": 10,
   "id": "61ee88cb",
   "metadata": {
    "scrolled": false
   },
   "outputs": [
    {
     "data": {
      "text/html": [
       "<div>\n",
       "<style scoped>\n",
       "    .dataframe tbody tr th:only-of-type {\n",
       "        vertical-align: middle;\n",
       "    }\n",
       "\n",
       "    .dataframe tbody tr th {\n",
       "        vertical-align: top;\n",
       "    }\n",
       "\n",
       "    .dataframe thead th {\n",
       "        text-align: right;\n",
       "    }\n",
       "</style>\n",
       "<table border=\"1\" class=\"dataframe\">\n",
       "  <thead>\n",
       "    <tr style=\"text-align: right;\">\n",
       "      <th></th>\n",
       "      <th>text</th>\n",
       "      <th>labels</th>\n",
       "    </tr>\n",
       "  </thead>\n",
       "  <tbody>\n",
       "    <tr>\n",
       "      <th>3942</th>\n",
       "      <td>Great to meet @BrightonChoir @MJParanzino tonight. What a lively and enthusiastic bunch! Look forward to working with you again!</td>\n",
       "      <td>[joy]</td>\n",
       "    </tr>\n",
       "    <tr>\n",
       "      <th>1826</th>\n",
       "      <td>@OnyxFlare25 She chuckles, shaking her head. 'No...I just have a really vivid imagination, I guess. It happens when you meet someone&amp;gt;</td>\n",
       "      <td>[fear]</td>\n",
       "    </tr>\n",
       "    <tr>\n",
       "      <th>4785</th>\n",
       "      <td>two major banking stocks down almost 15 to 20 % from their highs while benchmarks still close to top it is a sure #worry for markets</td>\n",
       "      <td>[fear]</td>\n",
       "    </tr>\n",
       "    <tr>\n",
       "      <th>1728</th>\n",
       "      <td>O you who have believed, fear Allah and believe in His Messenger; He will [then] give you a double portion of His mercy...' (Quran 57:28)</td>\n",
       "      <td>[fear]</td>\n",
       "    </tr>\n",
       "    <tr>\n",
       "      <th>1422</th>\n",
       "      <td>#Everything you've ever wanted awaits you on the other side of #fear . #IfIWasTheOppositeSex #AskAMan</td>\n",
       "      <td>[fear]</td>\n",
       "    </tr>\n",
       "    <tr>\n",
       "      <th>...</th>\n",
       "      <td>...</td>\n",
       "      <td>...</td>\n",
       "    </tr>\n",
       "    <tr>\n",
       "      <th>5909</th>\n",
       "      <td>Losing the will 2 live with @virginmedia business bb gone down on hold for 23 minutes &amp;amp; whoever picked up cut me off  #NoWorkForMe</td>\n",
       "      <td>[anger]</td>\n",
       "    </tr>\n",
       "    <tr>\n",
       "      <th>6705</th>\n",
       "      <td>it's still not sunk in that im seeing joe next month, im so grateful and excited shit</td>\n",
       "      <td>[sadness]</td>\n",
       "    </tr>\n",
       "    <tr>\n",
       "      <th>6201</th>\n",
       "      <td>Thank you @Pret 4 giving me a free coffee for bringing my reusable cup to the airport because it was 1st time you saw one. But #depressing</td>\n",
       "      <td>[sadness]</td>\n",
       "    </tr>\n",
       "    <tr>\n",
       "      <th>804</th>\n",
       "      <td>Sometimes I watch shitty tv to reinforce never giving up cuz if something is that fucking awful on tv, I still stand a chance. #optimism</td>\n",
       "      <td>[joy]</td>\n",
       "    </tr>\n",
       "    <tr>\n",
       "      <th>2136</th>\n",
       "      <td>@SkyUK what a joke!! Cut our internet off early 'by mistake' and then don't reinstate it when we no longer need an engineer 😡 #fuming</td>\n",
       "      <td>[anger]</td>\n",
       "    </tr>\n",
       "  </tbody>\n",
       "</table>\n",
       "<p>5681 rows × 2 columns</p>\n",
       "</div>"
      ],
      "text/plain": [
       "                                                                                                                                            text  \\\n",
       "3942  Great to meet @BrightonChoir @MJParanzino tonight. What a lively and enthusiastic bunch! Look forward to working with you again!             \n",
       "1826  @OnyxFlare25 She chuckles, shaking her head. 'No...I just have a really vivid imagination, I guess. It happens when you meet someone&gt;     \n",
       "4785  two major banking stocks down almost 15 to 20 % from their highs while benchmarks still close to top it is a sure #worry for markets         \n",
       "1728  O you who have believed, fear Allah and believe in His Messenger; He will [then] give you a double portion of His mercy...' (Quran 57:28)    \n",
       "1422  #Everything you've ever wanted awaits you on the other side of #fear . #IfIWasTheOppositeSex #AskAMan                                        \n",
       "...                                                                                                     ...                                        \n",
       "5909  Losing the will 2 live with @virginmedia business bb gone down on hold for 23 minutes &amp; whoever picked up cut me off  #NoWorkForMe       \n",
       "6705  it's still not sunk in that im seeing joe next month, im so grateful and excited shit                                                        \n",
       "6201  Thank you @Pret 4 giving me a free coffee for bringing my reusable cup to the airport because it was 1st time you saw one. But #depressing   \n",
       "804   Sometimes I watch shitty tv to reinforce never giving up cuz if something is that fucking awful on tv, I still stand a chance. #optimism     \n",
       "2136  @SkyUK what a joke!! Cut our internet off early 'by mistake' and then don't reinstate it when we no longer need an engineer 😡 #fuming        \n",
       "\n",
       "         labels  \n",
       "3942  [joy]      \n",
       "1826  [fear]     \n",
       "4785  [fear]     \n",
       "1728  [fear]     \n",
       "1422  [fear]     \n",
       "...      ...     \n",
       "5909  [anger]    \n",
       "6705  [sadness]  \n",
       "6201  [sadness]  \n",
       "804   [joy]      \n",
       "2136  [anger]    \n",
       "\n",
       "[5681 rows x 2 columns]"
      ]
     },
     "execution_count": 10,
     "metadata": {},
     "output_type": "execute_result"
    }
   ],
   "source": [
    "df_train"
   ]
  },
  {
   "cell_type": "code",
   "execution_count": 11,
   "id": "0988a46a",
   "metadata": {},
   "outputs": [
    {
     "name": "stderr",
     "output_type": "stream",
     "text": [
      "./build/lib/watson_nlp/workflows/classification/ensemble.py:196: DeprecationWarning: Call to deprecated class Ensemble. (The `Ensemble` class will be deprecated in next major release. Please try using the new `watson_nlp.workflows.classification.GenericEnsemble` class instead. We will continue to provide backwards compatibility for models trained with this `Ensemble` class) -- Deprecated since version 4.0.0.\n"
     ]
    }
   ],
   "source": [
    "# Load the Emotion workflow model for English\n",
    "emotion_model = watson_nlp.load(watson_nlp.download('emotion_aggregated-workflow_en_stock'))"
   ]
  },
  {
   "cell_type": "code",
   "execution_count": 12,
   "id": "272b302a",
   "metadata": {},
   "outputs": [
    {
     "name": "stdout",
     "output_type": "stream",
     "text": [
      "{\n",
      "  \"emotion_predictions\": [\n",
      "    {\n",
      "      \"emotion\": {\n",
      "        \"anger\": 0.03344198605786501,\n",
      "        \"disgust\": 0.0025860619710081005,\n",
      "        \"fear\": 0.889806274211768,\n",
      "        \"joy\": 0.014183746877472116,\n",
      "        \"sadness\": 0.08529379709877752\n",
      "      },\n",
      "      \"target\": \"\",\n",
      "      \"emotion_mentions\": [\n",
      "        {\n",
      "          \"span\": {\n",
      "            \"begin\": 0,\n",
      "            \"end\": 115,\n",
      "            \"text\": \"procrasting is fun until im an hour away from the time its due and i still havent finished so i have a panic attack\"\n",
      "          },\n",
      "          \"emotion\": {\n",
      "            \"anger\": 0.03344198605786501,\n",
      "            \"disgust\": 0.0025860619710081005,\n",
      "            \"fear\": 0.889806274211768,\n",
      "            \"joy\": 0.014183746877472116,\n",
      "            \"sadness\": 0.08529379709877752\n",
      "          }\n",
      "        }\n",
      "      ]\n",
      "    }\n",
      "  ],\n",
      "  \"producer_id\": {\n",
      "    \"name\": \"Ensemble Aggregated Emotion Workflow\",\n",
      "    \"version\": \"0.0.1\"\n",
      "  }\n",
      "}\n"
     ]
    }
   ],
   "source": [
    "# Run the Emotion model on a single document\n",
    "emotion_result = emotion_model.run(\"procrasting is fun until im an hour away from the time its due and i still havent finished so i have a panic attack\")\n",
    "print(emotion_result)"
   ]
  },
  {
   "cell_type": "code",
   "execution_count": 13,
   "id": "ae318b72",
   "metadata": {
    "scrolled": true
   },
   "outputs": [
    {
     "name": "stderr",
     "output_type": "stream",
     "text": [
      "WARNING: Only Micro_avg metrics could be calculated based on the information available for this block type.\n"
     ]
    },
    {
     "name": "stdout",
     "output_type": "stream",
     "text": [
      "{\n",
      "    \"per_class_confusion_matrix\": {\n",
      "        \"fear\": {\n",
      "            \"true_positive\": 116,\n",
      "            \"false_positive\": 44,\n",
      "            \"false_negative\": 317,\n",
      "            \"precision\": 0.725,\n",
      "            \"recall\": 0.2678983833718245,\n",
      "            \"f1\": 0.39123102866779086\n",
      "        },\n",
      "        \"joy\": {\n",
      "            \"true_positive\": 263,\n",
      "            \"false_positive\": 333,\n",
      "            \"false_negative\": 71,\n",
      "            \"precision\": 0.4412751677852349,\n",
      "            \"recall\": 0.7874251497005988,\n",
      "            \"f1\": 0.5655913978494623\n",
      "        },\n",
      "        \"sadness\": {\n",
      "            \"true_positive\": 179,\n",
      "            \"false_positive\": 290,\n",
      "            \"false_negative\": 144,\n",
      "            \"precision\": 0.3816631130063966,\n",
      "            \"recall\": 0.5541795665634675,\n",
      "            \"f1\": 0.45202020202020204\n",
      "        },\n",
      "        \"anger\": {\n",
      "            \"true_positive\": 93,\n",
      "            \"false_positive\": 60,\n",
      "            \"false_negative\": 238,\n",
      "            \"precision\": 0.6078431372549019,\n",
      "            \"recall\": 0.2809667673716012,\n",
      "            \"f1\": 0.384297520661157\n",
      "        },\n",
      "        \"disgust\": {\n",
      "            \"true_positive\": 0,\n",
      "            \"false_positive\": 43,\n",
      "            \"false_negative\": 0,\n",
      "            \"precision\": 0.0,\n",
      "            \"recall\": 0.0,\n",
      "            \"f1\": 0.0\n",
      "        }\n",
      "    },\n",
      "    \"macro_true_positive\": null,\n",
      "    \"macro_false_positive\": null,\n",
      "    \"macro_false_negative\": null,\n",
      "    \"macro_precision\": 0.43115628360930663,\n",
      "    \"macro_recall\": 0.3780939734014984,\n",
      "    \"macro_f1\": 0.3586280298397224,\n",
      "    \"micro_precision\": 0.458128078817734,\n",
      "    \"micro_recall\": 0.458128078817734,\n",
      "    \"micro_f1\": 0.458128078817734,\n",
      "    \"overall_tp\": 651,\n",
      "    \"overall_fp\": 770,\n",
      "    \"overall_fn\": 770,\n",
      "    \"detailed_metrics\": [],\n",
      "    \"micro_precision_partial_match\": 0.0,\n",
      "    \"micro_recall_partial_match\": 0.0,\n",
      "    \"micro_f1_partial_match\": 0.0\n",
      "}\n"
     ]
    }
   ],
   "source": [
    "test_data_file = \"df_test.json\"\n",
    "\n",
    "quality_report = emotion_model.evaluate_quality(test_data_file)\n",
    "print(json.dumps(quality_report, indent=4))"
   ]
  },
  {
   "cell_type": "code",
   "execution_count": 14,
   "id": "37faebed",
   "metadata": {},
   "outputs": [],
   "source": [
    "def run_emotion(text):\n",
    "    emotion_result = emotion_model.run(text)\n",
    "    #help(emotion_result.emotion_predictions[0].emotion)\n",
    "    return emotion_result.emotion_predictions[0].emotion.to_dict()"
   ]
  },
  {
   "cell_type": "code",
   "execution_count": 15,
   "id": "98f3217c",
   "metadata": {},
   "outputs": [],
   "source": [
    "test_df = pd.read_json(test_data_file)\n",
    "test_df['label'] = test_df['labels'].str[0]\n",
    "test_df['label'] = test_df['label'].replace({'happiness':'joy'})"
   ]
  },
  {
   "cell_type": "code",
   "execution_count": 16,
   "id": "c34e5461",
   "metadata": {},
   "outputs": [],
   "source": [
    "output = []\n",
    "for line in test_df['text']:\n",
    "    output.append([line, run_emotion(line)])"
   ]
  },
  {
   "cell_type": "code",
   "execution_count": 17,
   "id": "515b2689",
   "metadata": {},
   "outputs": [
    {
     "data": {
      "text/html": [
       "<div>\n",
       "<style scoped>\n",
       "    .dataframe tbody tr th:only-of-type {\n",
       "        vertical-align: middle;\n",
       "    }\n",
       "\n",
       "    .dataframe tbody tr th {\n",
       "        vertical-align: top;\n",
       "    }\n",
       "\n",
       "    .dataframe thead th {\n",
       "        text-align: right;\n",
       "    }\n",
       "</style>\n",
       "<table border=\"1\" class=\"dataframe\">\n",
       "  <thead>\n",
       "    <tr style=\"text-align: right;\">\n",
       "      <th></th>\n",
       "      <th>text</th>\n",
       "      <th>anger</th>\n",
       "      <th>disgust</th>\n",
       "      <th>fear</th>\n",
       "      <th>joy</th>\n",
       "      <th>sadness</th>\n",
       "      <th>highest_emotion</th>\n",
       "    </tr>\n",
       "  </thead>\n",
       "  <tbody>\n",
       "    <tr>\n",
       "      <th>0</th>\n",
       "      <td>$100 says Teufel is 'reassigned' within the organization before next year, but I wish it was sooner... #Mets #thirdbasecoach  #lgm</td>\n",
       "      <td>0.138045</td>\n",
       "      <td>0.096585</td>\n",
       "      <td>0.060661</td>\n",
       "      <td>0.372562</td>\n",
       "      <td>0.152925</td>\n",
       "      <td>joy</td>\n",
       "    </tr>\n",
       "    <tr>\n",
       "      <th>1</th>\n",
       "      <td>Come on girl shake that ass for me</td>\n",
       "      <td>0.174685</td>\n",
       "      <td>0.135870</td>\n",
       "      <td>0.150221</td>\n",
       "      <td>0.045668</td>\n",
       "      <td>0.320067</td>\n",
       "      <td>sadness</td>\n",
       "    </tr>\n",
       "    <tr>\n",
       "      <th>2</th>\n",
       "      <td>You must be knowing #blithe means (adj.)  Happy, cheerful.</td>\n",
       "      <td>0.016542</td>\n",
       "      <td>0.009960</td>\n",
       "      <td>0.110791</td>\n",
       "      <td>0.657973</td>\n",
       "      <td>0.146908</td>\n",
       "      <td>joy</td>\n",
       "    </tr>\n",
       "    <tr>\n",
       "      <th>3</th>\n",
       "      <td>@Dak2future decorations are up all over Jersey already</td>\n",
       "      <td>0.013543</td>\n",
       "      <td>0.039835</td>\n",
       "      <td>0.023728</td>\n",
       "      <td>0.644752</td>\n",
       "      <td>0.251535</td>\n",
       "      <td>joy</td>\n",
       "    </tr>\n",
       "    <tr>\n",
       "      <th>4</th>\n",
       "      <td>@MessYourself why? Do you have depression?</td>\n",
       "      <td>0.032491</td>\n",
       "      <td>0.034278</td>\n",
       "      <td>0.182359</td>\n",
       "      <td>0.108477</td>\n",
       "      <td>0.544961</td>\n",
       "      <td>sadness</td>\n",
       "    </tr>\n",
       "    <tr>\n",
       "      <th>...</th>\n",
       "      <td>...</td>\n",
       "      <td>...</td>\n",
       "      <td>...</td>\n",
       "      <td>...</td>\n",
       "      <td>...</td>\n",
       "      <td>...</td>\n",
       "      <td>...</td>\n",
       "    </tr>\n",
       "    <tr>\n",
       "      <th>1416</th>\n",
       "      <td>@Chic_Happens_ @Sean_Okeeffe1 @royalmusing I dread the comparisons to Queen Máxima. Guarantee I will lose followers when that happens.</td>\n",
       "      <td>0.072026</td>\n",
       "      <td>0.041589</td>\n",
       "      <td>0.100295</td>\n",
       "      <td>0.132510</td>\n",
       "      <td>0.432536</td>\n",
       "      <td>sadness</td>\n",
       "    </tr>\n",
       "    <tr>\n",
       "      <th>1417</th>\n",
       "      <td>@Markgatiss I'm surrounded by those Trump voters. You're right, it is fucking terrifying. #redstate #despair</td>\n",
       "      <td>0.105250</td>\n",
       "      <td>0.184527</td>\n",
       "      <td>0.325083</td>\n",
       "      <td>0.138259</td>\n",
       "      <td>0.139309</td>\n",
       "      <td>fear</td>\n",
       "    </tr>\n",
       "    <tr>\n",
       "      <th>1418</th>\n",
       "      <td>jstor's lingua obscura articles are always such a delight</td>\n",
       "      <td>0.019665</td>\n",
       "      <td>0.010188</td>\n",
       "      <td>0.021364</td>\n",
       "      <td>0.981510</td>\n",
       "      <td>0.051864</td>\n",
       "      <td>joy</td>\n",
       "    </tr>\n",
       "    <tr>\n",
       "      <th>1419</th>\n",
       "      <td>@JohnJHarwood @GWGMJ30 It's no secret: personal dislike of Trump &amp;amp; animosity has always been present..now magnified with bigotry/racism etc.</td>\n",
       "      <td>0.200419</td>\n",
       "      <td>0.286580</td>\n",
       "      <td>0.017539</td>\n",
       "      <td>0.051503</td>\n",
       "      <td>0.480805</td>\n",
       "      <td>sadness</td>\n",
       "    </tr>\n",
       "    <tr>\n",
       "      <th>1420</th>\n",
       "      <td>i might have #hysteria ,i don't kno if it's just #anxiety or both,..need a diagnosis cuz somethin' is messed up,need ert bu i nvr come out</td>\n",
       "      <td>0.030553</td>\n",
       "      <td>0.004276</td>\n",
       "      <td>0.398777</td>\n",
       "      <td>0.003731</td>\n",
       "      <td>0.481903</td>\n",
       "      <td>sadness</td>\n",
       "    </tr>\n",
       "  </tbody>\n",
       "</table>\n",
       "<p>1421 rows × 7 columns</p>\n",
       "</div>"
      ],
      "text/plain": [
       "                                                                                                                                                  text  \\\n",
       "0     $100 says Teufel is 'reassigned' within the organization before next year, but I wish it was sooner... #Mets #thirdbasecoach  #lgm                 \n",
       "1     Come on girl shake that ass for me                                                                                                                 \n",
       "2     You must be knowing #blithe means (adj.)  Happy, cheerful.                                                                                         \n",
       "3     @Dak2future decorations are up all over Jersey already                                                                                             \n",
       "4     @MessYourself why? Do you have depression?                                                                                                         \n",
       "...                                          ...                                                                                                         \n",
       "1416  @Chic_Happens_ @Sean_Okeeffe1 @royalmusing I dread the comparisons to Queen Máxima. Guarantee I will lose followers when that happens.             \n",
       "1417  @Markgatiss I'm surrounded by those Trump voters. You're right, it is fucking terrifying. #redstate #despair                                       \n",
       "1418  jstor's lingua obscura articles are always such a delight                                                                                          \n",
       "1419  @JohnJHarwood @GWGMJ30 It's no secret: personal dislike of Trump &amp; animosity has always been present..now magnified with bigotry/racism etc.   \n",
       "1420  i might have #hysteria ,i don't kno if it's just #anxiety or both,..need a diagnosis cuz somethin' is messed up,need ert bu i nvr come out         \n",
       "\n",
       "         anger   disgust      fear       joy   sadness highest_emotion  \n",
       "0     0.138045  0.096585  0.060661  0.372562  0.152925  joy             \n",
       "1     0.174685  0.135870  0.150221  0.045668  0.320067  sadness         \n",
       "2     0.016542  0.009960  0.110791  0.657973  0.146908  joy             \n",
       "3     0.013543  0.039835  0.023728  0.644752  0.251535  joy             \n",
       "4     0.032491  0.034278  0.182359  0.108477  0.544961  sadness         \n",
       "...        ...       ...       ...       ...       ...      ...         \n",
       "1416  0.072026  0.041589  0.100295  0.132510  0.432536  sadness         \n",
       "1417  0.105250  0.184527  0.325083  0.138259  0.139309  fear            \n",
       "1418  0.019665  0.010188  0.021364  0.981510  0.051864  joy             \n",
       "1419  0.200419  0.286580  0.017539  0.051503  0.480805  sadness         \n",
       "1420  0.030553  0.004276  0.398777  0.003731  0.481903  sadness         \n",
       "\n",
       "[1421 rows x 7 columns]"
      ]
     },
     "execution_count": 17,
     "metadata": {},
     "output_type": "execute_result"
    }
   ],
   "source": [
    "emotion_df = pd.DataFrame(output, columns=['text', 'emotions'])\n",
    "emotion_df = pd.concat([emotion_df, emotion_df[\"emotions\"].apply(pd.Series)], axis=1)\n",
    "emotion_df = emotion_df.drop(['emotions'], axis=1)\n",
    "emotion_df['highest_emotion'] = emotion_df[['anger', 'disgust', 'fear', 'joy', 'sadness']].idxmax(axis=1)\n",
    "emotion_df"
   ]
  },
  {
   "cell_type": "code",
   "execution_count": 18,
   "id": "1dd853f2",
   "metadata": {},
   "outputs": [
    {
     "data": {
      "text/plain": [
       "Text(0.5, 1.0, 'Test dataset labels')"
      ]
     },
     "execution_count": 18,
     "metadata": {},
     "output_type": "execute_result"
    },
    {
     "data": {
      "image/png": "[encoded data removed]",
      "text/plain": [
       "<Figure size 2000x1000 with 2 Axes>"
      ]
     },
     "metadata": {},
     "output_type": "display_data"
    }
   ],
   "source": [
    "figure, ax = plt.subplots(ncols=2, figsize=(20,10))\n",
    "figure.tight_layout(pad=5)\n",
    "sns.countplot(x=emotion_df['highest_emotion'],  data=emotion_df['highest_emotion'], order=emotion_df['highest_emotion'].value_counts().sort_index().index, ax=ax[0])\n",
    "for p, label in zip(ax[0].patches, emotion_df['highest_emotion'].value_counts().sort_index()): \n",
    "    ax[0].annotate(label, (p.get_x()+0.35, p.get_height()+0.5))\n",
    "ax[0].set_title('Emotion model predictions')\n",
    "\n",
    "sns.countplot(x=test_df[\"label\"],  data=test_df[\"label\"], order=test_df[\"label\"].value_counts().sort_index().index, ax=ax[1])\n",
    "for p, label in zip(ax[1].patches, test_df[\"label\"].value_counts().sort_index()):   \n",
    "    ax[1].annotate(label, (p.get_x()+0.35, p.get_height()+0.5))\n",
    "ax[1].set_title('Test dataset labels')"
   ]
  }
 ],
 "metadata": {
  "kernelspec": {
   "display_name": "Python 3 (ipykernel)",
   "language": "python",
   "name": "python3"
  },
  "language_info": {
   "codemirror_mode": {
    "name": "ipython",
    "version": 3
   },
   "file_extension": ".py",
   "mimetype": "text/x-python",
   "name": "python",
   "nbconvert_exporter": "python",
   "pygments_lexer": "ipython3",
   "version": "3.9.12"
  }
 },
 "nbformat": 4,
 "nbformat_minor": 5
}
